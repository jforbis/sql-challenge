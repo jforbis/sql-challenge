{
 "cells": [
  {
   "cell_type": "code",
   "execution_count": 3,
   "metadata": {},
   "outputs": [],
   "source": [
    "# Dependencies\n",
    "# Pandas\n",
    "import pandas as pd\n",
    "\n",
    "# SQL Alchemy\n",
    "from sqlalchemy import create_engine\n",
    "pwd = \"ClikeBean22\""
   ]
  },
  {
   "cell_type": "code",
   "execution_count": 4,
   "metadata": {},
   "outputs": [],
   "source": [
    "# Create Engine\n",
    "# engine = create_engine('postgresql://localhost:5432/<pewlett_hackard_emp_db>')\n",
    "# conn = engine.connect()\n",
    "\n",
    "engine = create_engine('postgresql://postgres:'+ pwd + '@localhost:5432/pewlett_hackard_emp_db')\n",
    "conn = engine.connect()\n"
   ]
  },
  {
   "cell_type": "code",
   "execution_count": null,
   "metadata": {},
   "outputs": [],
   "source": [
    "# Query All Records in the the Database\n",
    "data = pd.read_sql(\"SELECT * FROM Census_Data\", conn)\n",
    "\n",
    "data = pd.read_sql_query('SELECT s.emp_no, s.salary, t.title FROM salaries s JOIN employees e ON s.emp_no=e.emp_no JOIN titles t ON e.emp_title_id=t.title_id;', connection)\n",
    "df = pd.DataFrame(sql_query)"
   ]
  }
 ],
 "metadata": {
  "kernelspec": {
   "display_name": "Python 3",
   "language": "python",
   "name": "python3"
  },
  "language_info": {
   "codemirror_mode": {
    "name": "ipython",
    "version": 3
   },
   "file_extension": ".py",
   "mimetype": "text/x-python",
   "name": "python",
   "nbconvert_exporter": "python",
   "pygments_lexer": "ipython3",
   "version": "3.8.3"
  }
 },
 "nbformat": 4,
 "nbformat_minor": 4
}
